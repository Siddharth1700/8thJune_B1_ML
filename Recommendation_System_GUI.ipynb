{
 "cells": [
  {
   "cell_type": "code",
   "execution_count": 1,
   "id": "40cfbf52-9109-4a6a-beea-047759b0ac86",
   "metadata": {},
   "outputs": [],
   "source": [
    "import tkinter as tk\n",
    "import pandas as pd\n",
    "import warnings\n",
    "warnings.filterwarnings('ignore')"
   ]
  },
  {
   "cell_type": "code",
   "execution_count": 2,
   "id": "377c1eb4-e106-4fb2-9896-0ecce227b095",
   "metadata": {},
   "outputs": [],
   "source": [
    "df = pd.read_csv('u.data',sep='\\t', names=['user_id','item_id','rating','ts'])\n",
    "movies = pd.read_csv('u.item',sep='|',names=\"item_id|title| release date | video release date |\\\n",
    "              IMDb URL | unknown | Action | Adventure | Animation |\\\n",
    "              Children's | Comedy | Crime | Documentary | Drama | Fantasy |\\\n",
    "              Film-Noir | Horror | Musical | Mystery | Romance | Sci-Fi |\\\n",
    "              Thriller | War | Western\".split('|'))\n",
    "data = pd.merge(df.drop('ts',axis=1),movies[['item_id','title']], on='item_id')\n",
    "rate_count =  data.groupby('title')['rating'].count()\n",
    "df_pivot = data.pivot_table(index='user_id',columns='title',values='rating')\n",
    "\n",
    "app = tk.Tk()\n",
    "app.geometry('460x300')\n",
    "app.title('Recommendation Engine')\n",
    "\n",
    "listbox = tk.Listbox(app, height=15, width=30, bg='white',fg='black')\n",
    "listbox.place(x=20,y=20)\n",
    "\n",
    "for i,t in enumerate(data['title'].unique()):\n",
    "    listbox.insert(i+1, t)\n",
    "\n",
    "def recommend():\n",
    "    inp = listbox.get(listbox.curselection())\n",
    "    sim_df = pd.DataFrame(df_pivot.corrwith(df_pivot[inp]),columns=['corr'])\n",
    "    sim_df['count'] = rate_count\n",
    "    recom = sim_df[(sim_df['count']>100)].sort_values('corr',ascending=False)\n",
    "    recom.drop(inp,axis=0, inplace=True)\n",
    "    recommended = recom.index[:3]\n",
    "    result1.set(recommended[0])\n",
    "    result2.set(recommended[1])\n",
    "    result3.set(recommended[2])\n",
    "\n",
    "tk.Button(app,text='Show Recommendations', command=recommend,bg='yellow',fg='black').place(x=250,y=30)\n",
    "\n",
    "result1 = tk.Variable(app)\n",
    "result1.set('')\n",
    "tk.Label(app, textvariable=result1,fg=\"Green\").place(x=250,y=100)\n",
    "\n",
    "result2 = tk.Variable(app)\n",
    "result2.set('')\n",
    "tk.Label(app, textvariable=result2,fg=\"Green\").place(x=250,y=130)\n",
    "\n",
    "result3 = tk.Variable(app)\n",
    "result3.set('')\n",
    "tk.Label(app, textvariable=result3,fg=\"Green\").place(x=250,y=160)\n",
    "\n",
    "app.mainloop()"
   ]
  },
  {
   "cell_type": "code",
   "execution_count": null,
   "id": "3be35f8e-e1b7-431f-b15b-3128431450d7",
   "metadata": {},
   "outputs": [],
   "source": []
  }
 ],
 "metadata": {
  "kernelspec": {
   "display_name": "Python 3",
   "language": "python",
   "name": "python3"
  },
  "language_info": {
   "codemirror_mode": {
    "name": "ipython",
    "version": 3
   },
   "file_extension": ".py",
   "mimetype": "text/x-python",
   "name": "python",
   "nbconvert_exporter": "python",
   "pygments_lexer": "ipython3",
   "version": "3.8.8"
  }
 },
 "nbformat": 4,
 "nbformat_minor": 5
}
